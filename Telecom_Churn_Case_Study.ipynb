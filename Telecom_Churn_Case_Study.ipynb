{
 "cells": [
  {
   "cell_type": "markdown",
   "id": "81b86d4c",
   "metadata": {},
   "source": [
    "## Problem Statement\n",
    "\n",
    "In the telecom industry, customers are able to choose from multiple service providers and actively switch from one operator to another. In this highly competitive market, the telecommunications industry experiences an average of 15-25% annual churn rate. Given the fact that it costs 5-10 times more to acquire a new customer than to retain an existing one, customer retention has now become even more important than customer acquisition.\n",
    "\n",
    "To reduce customer churn, telecom companies need to predict which customers are at high risk of churn.\n",
    "\n",
    "In this project, you will analyse customer-level data of a leading telecom firm, build predictive models to identify customers at high risk of churn and identify the main indicators of churn."
   ]
  },
  {
   "cell_type": "markdown",
   "id": "433ee31d",
   "metadata": {},
   "source": [
    "* The model will only be able to achieve one of the two goals \n",
    "    - To predict customers who will churn.\n",
    "    \n",
    "* You can’t use the above model to identify the important features for churn. That’s because PCA usually creates components \n",
    "  which are not easy to interpret.\n",
    "  \n",
    "* Therefore, build another model with the main objective of identifying important predictor attributes which help the business understand indicators of churn. \n",
    "\n",
    "A good choice to identify important variables is a logistic regression model or a model from the tree family. In case of logistic regression, make sure to handle multi-collinearity.\n",
    "\n",
    "After identifying important predictors, display them visually - you can use plots, summary tables etc. - whatever you think best conveys the importance of features.\n",
    "\n",
    "#### Finally, recommend strategies to manage customer churn based on your observations."
   ]
  },
  {
   "cell_type": "markdown",
   "id": "9b1cfa98",
   "metadata": {},
   "source": [
    "## Step 1 : Data Loading & Data Understanding"
   ]
  },
  {
   "cell_type": "code",
   "execution_count": null,
   "id": "cf24a3e4",
   "metadata": {},
   "outputs": [],
   "source": [
    "## Importing all necessary libaries\n",
    "\n",
    "import numpy as np, pandas as pd\n",
    "import matplotlib.pyplot as plt\n",
    "import seaborn as sns\n",
    "import sklearn\n",
    "\n",
    "import warnings\n",
    "warnings.filterwarnings('ignore')"
   ]
  },
  {
   "cell_type": "code",
   "execution_count": null,
   "id": "53bc65f3",
   "metadata": {},
   "outputs": [],
   "source": [
    "## Setting max columns to display\n",
    "\n",
    "pd.set_option('display.max_columns', 500)\n",
    "pd.set_option('display.max_rows', 100)"
   ]
  },
  {
   "cell_type": "code",
   "execution_count": null,
   "id": "4312189e",
   "metadata": {},
   "outputs": [],
   "source": [
    "## Loading and viewing the DataSet \n",
    "\n",
    "telecom_data = pd.read_csv('telecom_churn_data.csv')\n",
    "telecom_data.head()"
   ]
  },
  {
   "cell_type": "code",
   "execution_count": null,
   "id": "706df6b5",
   "metadata": {},
   "outputs": [],
   "source": [
    "## Shape of the dataset\n",
    "\n",
    "telecom_data.shape"
   ]
  },
  {
   "cell_type": "code",
   "execution_count": null,
   "id": "bcb59137",
   "metadata": {
    "scrolled": true
   },
   "outputs": [],
   "source": [
    "## Checking null percentage in data\n",
    "\n",
    "((telecom_data.isnull().sum()/telecom_data.index.size)*100).sort_values(ascending=False)"
   ]
  },
  {
   "cell_type": "markdown",
   "id": "041b98d0",
   "metadata": {},
   "source": [
    "## Step 2 : Data Cleaning & Preparation"
   ]
  },
  {
   "cell_type": "code",
   "execution_count": null,
   "id": "cf8e7499",
   "metadata": {},
   "outputs": [],
   "source": [
    "## Let us check if we have any duplicate data, i.e, if we have more than one record for any number\n",
    "\n",
    "telecom_data.mobile_number.value_counts().sum()"
   ]
  },
  {
   "cell_type": "markdown",
   "id": "04d18db3",
   "metadata": {},
   "source": [
    "Since the unique value count is same as the number of rows which we got above from shape, this means that there is no duplicate \n",
    "data. Let us prepare the data as per the requirement"
   ]
  },
  {
   "cell_type": "code",
   "execution_count": null,
   "id": "87530cb2",
   "metadata": {},
   "outputs": [],
   "source": [
    "telecom_data.head()"
   ]
  },
  {
   "cell_type": "code",
   "execution_count": null,
   "id": "03a1e035",
   "metadata": {},
   "outputs": [],
   "source": [
    "## Before any modifications, let us keep the original dataset seperated and create a copy of the Original Dataset\n",
    "\n",
    "telecom_df = telecom_data.copy()\n",
    "telecom_df.shape"
   ]
  },
  {
   "cell_type": "code",
   "execution_count": null,
   "id": "908b9a85",
   "metadata": {},
   "outputs": [],
   "source": [
    "## The circle_id column is not relevant to us as the Telecom Circular area will not make any relevance while modelling as well\n",
    "## Therefore, let us drop this feature\n",
    "\n",
    "telecom_df = telecom_df.drop(['circle_id'], axis=1)\n",
    "telecom_df.head()"
   ]
  },
  {
   "cell_type": "code",
   "execution_count": null,
   "id": "12465a46",
   "metadata": {
    "scrolled": true
   },
   "outputs": [],
   "source": [
    "## Checking data statistics\n",
    "\n",
    "telecom_df.describe()"
   ]
  },
  {
   "cell_type": "code",
   "execution_count": null,
   "id": "0d075c99",
   "metadata": {},
   "outputs": [],
   "source": [
    "## Checking NA values in the recharge columns for 6, 7, 8 and 9 motnhs respectively\n",
    "\n",
    "print((telecom_df.total_rech_data_6.isna().sum()/telecom_data.index.size)*100)\n",
    "print((telecom_df.total_rech_data_7.isna().sum()/telecom_data.index.size)*100)\n",
    "print((telecom_df.total_rech_data_8.isna().sum()/telecom_data.index.size)*100)\n",
    "print((telecom_df.total_rech_data_9.isna().sum()/telecom_data.index.size)*100)"
   ]
  },
  {
   "cell_type": "code",
   "execution_count": null,
   "id": "ceebf05d",
   "metadata": {},
   "outputs": [],
   "source": [
    "## We can impute these values with 0, as we might need these features in creating new features so we are not dropping any data\n",
    "\n",
    "telecom_df.total_rech_data_6 = telecom_df.total_rech_data_6.replace(np.nan, 0.0)\n",
    "telecom_df.total_rech_data_7 = telecom_df.total_rech_data_7.replace(np.nan, 0.0)\n",
    "telecom_df.total_rech_data_8 = telecom_df.total_rech_data_8.replace(np.nan, 0.0)\n",
    "telecom_df.total_rech_data_9 = telecom_df.total_rech_data_9.replace(np.nan, 0.0)"
   ]
  },
  {
   "cell_type": "code",
   "execution_count": null,
   "id": "4da5898c",
   "metadata": {},
   "outputs": [],
   "source": [
    "## Similar to the recharge features, we will impute 0.0 for all average recharge amount data features\n",
    "\n",
    "telecom_df.av_rech_amt_data_6 = telecom_df.av_rech_amt_data_6.replace(np.nan, 0.0)\n",
    "telecom_df.av_rech_amt_data_7 = telecom_df.av_rech_amt_data_7.replace(np.nan, 0.0)\n",
    "telecom_df.av_rech_amt_data_8 = telecom_df.av_rech_amt_data_8.replace(np.nan, 0.0)\n",
    "telecom_df.av_rech_amt_data_9 = telecom_df.av_rech_amt_data_9.replace(np.nan, 0.0)"
   ]
  },
  {
   "cell_type": "markdown",
   "id": "331523d5",
   "metadata": {},
   "source": [
    "### Filter High - Value customers\n",
    "\n",
    "Those who have recharged with an amount more than or equal to X, where X is greater than 70th percentile of the average recharge amount in the first two months (the good phase)"
   ]
  },
  {
   "cell_type": "code",
   "execution_count": null,
   "id": "e88ee78d",
   "metadata": {},
   "outputs": [],
   "source": [
    "## Calculating Average Good Phase, i.e. 6th and 7th month recharge amount to find 0.7 percentile of the data\n",
    "\n",
    "telecom_df['avg_rech_good_phase'] = ((telecom_df['total_rech_amt_6'] + telecom_df['total_rech_amt_7'])/2)"
   ]
  },
  {
   "cell_type": "code",
   "execution_count": null,
   "id": "39357f5d",
   "metadata": {},
   "outputs": [],
   "source": [
    "X = telecom_df.avg_rech_good_phase.quantile(0.7)\n",
    "X"
   ]
  },
  {
   "cell_type": "markdown",
   "id": "57ea3b71",
   "metadata": {},
   "source": [
    "Filtering the records where recharge is equal to or more than above value of X, which is 368.5"
   ]
  },
  {
   "cell_type": "code",
   "execution_count": null,
   "id": "6d33ece0",
   "metadata": {},
   "outputs": [],
   "source": [
    "telecom_df = telecom_df[telecom_df.avg_rech_good_phase >= X] \n",
    "telecom_df.shape"
   ]
  },
  {
   "cell_type": "code",
   "execution_count": null,
   "id": "67b4d00e",
   "metadata": {},
   "outputs": [],
   "source": []
  }
 ],
 "metadata": {
  "kernelspec": {
   "display_name": "Python 3 (ipykernel)",
   "language": "python",
   "name": "python3"
  },
  "language_info": {
   "codemirror_mode": {
    "name": "ipython",
    "version": 3
   },
   "file_extension": ".py",
   "mimetype": "text/x-python",
   "name": "python",
   "nbconvert_exporter": "python",
   "pygments_lexer": "ipython3",
   "version": "3.9.7"
  }
 },
 "nbformat": 4,
 "nbformat_minor": 5
}
